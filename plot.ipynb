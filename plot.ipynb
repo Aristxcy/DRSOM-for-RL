{
 "cells": [
  {
   "cell_type": "code",
   "execution_count": 8,
   "metadata": {},
   "outputs": [],
   "source": [
    "import matplotlib.pyplot as plt\n",
    "import pandas as pd\n",
    "import numpy as np\n",
    "\n",
    "x = np.linspace(0, 1000, 1000)"
   ]
  },
  {
   "cell_type": "code",
   "execution_count": 9,
   "metadata": {},
   "outputs": [],
   "source": [
    "# df_drsom = pd.read_csv('./data/local/experiment/trpo_pendulum_5/progress.csv')\n",
    "\n",
    "df_drsom_1 = pd.read_csv('./data/local/experiment/trpo_pendulum_1/progress.csv')\n",
    "# df_drsom_2 = pd.read_csv('./data/local/experiment/trpo_pendulum_2/progress.csv')\n",
    "\n",
    "# df_vpg = pd.read_csv('./data/local/experiment/trpo_pendulum_22/progress.csv')\n",
    "# df_trpo = pd.read_csv('./data/local/experiment/trpo_pendulum_18/progress.csv')"
   ]
  },
  {
   "cell_type": "code",
   "execution_count": 10,
   "metadata": {},
   "outputs": [
    {
     "data": {
      "text/plain": [
       "<matplotlib.legend.Legend at 0x14309802940>"
      ]
     },
     "execution_count": 10,
     "metadata": {},
     "output_type": "execute_result"
    },
    {
     "data": {
      "image/png": "[encoded data removed]",
      "text/plain": [
       "<Figure size 432x288 with 1 Axes>"
      ]
     },
     "metadata": {
      "needs_background": "light"
     },
     "output_type": "display_data"
    }
   ],
   "source": [
    "plt.plot(x, df_drsom_1[\"Evaluation/AverageDiscountedReturn\"], label='drsom-1')\n",
    "# plt.plot(x, df_drsom_2[\"Evaluation/AverageDiscountedReturn\"], label='drsom-2')\n",
    "# plt.plot(x, df_trpo[\"Evaluation/AverageDiscountedReturn\"], label='trpo')\n",
    "# plt.plot(x, df_vpg[\"Evaluation/AverageDiscountedReturn\"], label='vpg')\n",
    "plt.legend()"
   ]
  },
  {
   "cell_type": "code",
   "execution_count": 11,
   "metadata": {},
   "outputs": [],
   "source": [
    "# plt.plot(x, df_drsom[\"Evaluation/AverageDiscountedReturn\"], label='drsom')\n",
    "# plt.plot(x, df_vpg[\"Evaluation/AverageDiscountedReturn\"], label='vpg')\n",
    "# plt.plot(x, df_trpo[\"Evaluation/AverageDiscountedReturn\"], label='trpo')\n",
    "# plt.legend()\n",
    "# plt.xlabel('epoch')\n",
    "# plt.ylabel('average discounted return')\n",
    "# # plt.savefig('drsom v.s. vpg.pdf')\n",
    "# plt.savefig('three.pdf')"
   ]
  }
 ],
 "metadata": {
  "kernelspec": {
   "display_name": "Python 3.8.8 ('base')",
   "language": "python",
   "name": "python3"
  },
  "language_info": {
   "codemirror_mode": {
    "name": "ipython",
    "version": 3
   },
   "file_extension": ".py",
   "mimetype": "text/x-python",
   "name": "python",
   "nbconvert_exporter": "python",
   "pygments_lexer": "ipython3",
   "version": "3.8.8"
  },
  "orig_nbformat": 4,
  "vscode": {
   "interpreter": {
    "hash": "88279d2366fe020547cde40dd65aa0e3aa662a6ec1f3ca12d88834876c85e1a6"
   }
  }
 },
 "nbformat": 4,
 "nbformat_minor": 2
}
